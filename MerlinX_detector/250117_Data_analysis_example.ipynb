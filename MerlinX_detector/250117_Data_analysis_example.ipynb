{
 "cells": [
  {
   "cell_type": "code",
   "execution_count": null,
   "id": "0",
   "metadata": {},
   "outputs": [],
   "source": [
    "import os \n",
    "import h5py\n",
    "import numpy as np\n",
    "import matplotlib.pyplot as plt\n",
    "\n",
    "os.chdir('/nfs/ruche/nanoscopium-users/20240588/published-data')\n",
    "print('import path:    ', os.getcwd())\n",
    "from scripts.printTree import treePrint2"
   ]
  },
  {
   "cell_type": "code",
   "execution_count": null,
   "id": "1",
   "metadata": {},
   "outputs": [],
   "source": [
    "os.chdir('/nfs/ruche/nanoscopium-users/20240588/2025/Shutdown6/2025-01-16')\n",
    "print('data:    ', os.getcwd())\n",
    "\n",
    "print('files: ')\n",
    "for file in os.listdir():\n",
    "    print(file, end=', ')"
   ]
  },
  {
   "cell_type": "code",
   "execution_count": null,
   "id": "2",
   "metadata": {},
   "outputs": [],
   "source": [
    "file_path = 'flyscan_16401-0001.nxs'\n",
    "\n",
    "hd =  h5py.File(file_path, 'r')\n",
    "treePrint2(dict(hd))"
   ]
  },
  {
   "cell_type": "code",
   "execution_count": null,
   "id": "3",
   "metadata": {},
   "outputs": [],
   "source": [
    "# Open the NeXus file\n",
    "with h5py.File(file_path, 'r') as f:\n",
    "    # List all groups\n",
    "    print(\"Keys: %s\" % f.keys())\n",
    "    # Get the data\n",
    "    data = np.array(f.get('flyscan_16401/scan_data/Image_merlin_image'))\n",
    "    print(np.shape(data))  # Print the data\n"
   ]
  },
  {
   "cell_type": "code",
   "execution_count": null,
   "id": "4",
   "metadata": {},
   "outputs": [],
   "source": [
    "plt.imshow(data[0,50])\n",
    "plt.colorbar()"
   ]
  },
  {
   "cell_type": "code",
   "execution_count": null,
   "id": "5",
   "metadata": {},
   "outputs": [],
   "source": [
    "sum_data = np.sum(data, axis=(0,1))\n",
    "print(np.amin(sum_data), np.amax(sum_data), np.shape(sum_data))\n",
    "\n",
    "plt.imshow(sum_data, vmin=0,vmax=1)\n",
    "plt.colorbar()"
   ]
  },
  {
   "cell_type": "code",
   "execution_count": 1,
   "id": "6",
   "metadata": {
    "tags": []
   },
   "outputs": [
    {
     "name": "stdout",
     "output_type": "stream",
     "text": [
      "Im trying t commit\n"
     ]
    }
   ],
   "source": [
    "print(\"Im trying t commit\")"
   ]
  },
  {
   "cell_type": "code",
   "execution_count": null,
   "id": "7a35015f-218c-41d7-8993-815ef56cd566",
   "metadata": {},
   "outputs": [],
   "source": []
  }
 ],
 "metadata": {
  "kernelspec": {
   "display_name": "Python 3 (ipykernel)",
   "language": "python",
   "name": "python3"
  },
  "language_info": {
   "codemirror_mode": {
    "name": "ipython",
    "version": 3
   },
   "file_extension": ".py",
   "mimetype": "text/x-python",
   "name": "python",
   "nbconvert_exporter": "python",
   "pygments_lexer": "ipython3",
   "version": "3.10.4"
  }
 },
 "nbformat": 4,
 "nbformat_minor": 5
}
