{
 "cells": [
  {
   "cell_type": "code",
   "execution_count": null,
   "id": "0",
   "metadata": {},
   "outputs": [],
   "source": [
    "import pycuda\n",
    "import pycuda.autoinit\n",
    "from pycuda.tools import make_default_context\n",
    "\n",
    "c = make_default_context()\n",
    "d = c.get_device()\n",
    "print('pycuda:', d.name())\n",
    "\n",
    "import torch\n",
    "\n",
    "print('torch gpu:', torch.cuda.is_available(), ', ', torch.cuda.get_device_name(0))"
   ]
  },
  {
   "cell_type": "code",
   "execution_count": null,
   "id": "1",
   "metadata": {},
   "outputs": [],
   "source": [
    "import time\n",
    "import matplotlib.pyplot as plt\n",
    "\n",
    "def g2_correlation_Lucas(intensity_image, q_vector):\n",
    "    # Convert q_vector to torch tensor if it's not already one\n",
    "    q_vector = torch.tensor(q_vector)\n",
    "\n",
    "    Im_disp = torch.roll(intensity_image, shifts=tuple(q_vector), dims=(0,1))\n",
    "\n",
    "    numerator = torch.mean(intensity_image * Im_disp)\n",
    "    denominator = torch.mean(intensity_image) ** 2\n",
    "\n",
    "    # Compute the normalized second-order correlation\n",
    "    g2 = numerator / denominator\n",
    "\n",
    "    return g2"
   ]
  },
  {
   "cell_type": "code",
   "execution_count": null,
   "id": "2",
   "metadata": {},
   "outputs": [],
   "source": [
    "image = torch.ones([1000, 1000], device='cuda')\n",
    "N_corr_c2 = 100  # number of pixels to use for the auto-correlation\n",
    "c2j = torch.zeros([N_corr_c2, N_corr_c2], device='cuda')\n",
    "\n",
    "start_time = time.time()\n",
    "\n",
    "for q1, q11 in enumerate(range(-int(N_corr_c2 / 2) - 1, int(N_corr_c2 / 2) - 1, 1)):\n",
    "    for q2, q22 in enumerate(range(-int(N_corr_c2 / 2) - 1, int(N_corr_c2 / 2) - 1, 1)):\n",
    "        c2j[q2, q1] = g2_correlation_Lucas(image, [q11, q22])  # compute g2 for each q1, q2\n",
    "        \n",
    "end_time = time.time()\n",
    "execution_time = end_time - start_time\n",
    "print(f\"Execution time: {execution_time} seconds\")"
   ]
  },
  {
   "cell_type": "code",
   "execution_count": null,
   "id": "3",
   "metadata": {},
   "outputs": [],
   "source": [
    "import concurrent.futures\n",
    "\n",
    "image = torch.ones([1000, 1000], device='cuda')\n",
    "N_corr_c2 = 100  # number of pixels to use for the auto-correlation\n",
    "c2j = torch.zeros([N_corr_c2, N_corr_c2], device='cuda')\n",
    "\n",
    "def compute_g2(q1, q2, image):\n",
    "    return g2_correlation_Lucas(image, [q1, q2])\n",
    "\n",
    "q_range = range(-int(N_corr_c2 / 2) - 1, int(N_corr_c2 / 2) - 1, 1)\n",
    "q_pairs = [(q1, q2) for q1 in q_range for q2 in q_range]\n",
    "\n",
    "start_time = time.time()\n",
    "\n",
    "with concurrent.futures.ThreadPoolExecutor() as executor:\n",
    "    results = list(executor.map(lambda q: compute_g2(q[0], q[1], image), q_pairs))\n",
    "\n",
    "end_time = time.time()\n",
    "execution_time = end_time - start_time\n",
    "print(f\"Execution time: {execution_time} seconds\")\n",
    "\n",
    "for idx, (q1, q2) in enumerate(q_pairs):\n",
    "    c2j[q2 + int(N_corr_c2 / 2) + 1, q1 + int(N_corr_c2 / 2) + 1] = results[idx]     "
   ]
  },
  {
   "cell_type": "code",
   "execution_count": null,
   "id": "4",
   "metadata": {},
   "outputs": [],
   "source": [
    "plt.imshow(c2j.cpu().numpy())\n",
    "plt.colorbar()"
   ]
  },
  {
   "cell_type": "code",
   "execution_count": null,
   "id": "5",
   "metadata": {},
   "outputs": [],
   "source": []
  }
 ],
 "metadata": {
  "kernelspec": {
   "display_name": "Python 3 (ipykernel)",
   "language": "python",
   "name": "python3"
  },
  "language_info": {
   "codemirror_mode": {
    "name": "ipython",
    "version": 3
   },
   "file_extension": ".py",
   "mimetype": "text/x-python",
   "name": "python",
   "nbconvert_exporter": "python",
   "pygments_lexer": "ipython3",
   "version": "3.11.2"
  }
 },
 "nbformat": 4,
 "nbformat_minor": 5
}
