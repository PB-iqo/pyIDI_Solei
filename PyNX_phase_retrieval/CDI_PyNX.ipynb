{
 "cells": [
  {
   "cell_type": "markdown",
   "metadata": {
    "id": "OGheb0MImQT-",
    "jp-MarkdownHeadingCollapsed": true,
    "tags": []
   },
   "source": [
    "# **Installation**"
   ]
  },
  {
   "cell_type": "code",
   "execution_count": null,
   "metadata": {
    "colab": {
     "base_uri": "https://localhost:8080/"
    },
    "executionInfo": {
     "elapsed": 3150,
     "status": "ok",
     "timestamp": 1737042211424,
     "user": {
      "displayName": "Peer",
      "userId": "13324457157936835427"
     },
     "user_tz": -60
    },
    "id": "IobIxGMrmQUD",
    "outputId": "f83baaaa-619b-470e-e79f-40ae1526f9e0"
   },
   "outputs": [],
   "source": [
    "# !pip install pycuda\n",
    "# Package to run the reconstruction on the graphics card -> accelerates it A LOT"
   ]
  },
  {
   "cell_type": "code",
   "execution_count": null,
   "metadata": {
    "colab": {
     "base_uri": "https://localhost:8080/"
    },
    "executionInfo": {
     "elapsed": 5696,
     "status": "ok",
     "timestamp": 1737042256439,
     "user": {
      "displayName": "Peer",
      "userId": "13324457157936835427"
     },
     "user_tz": -60
    },
    "id": "dqZYjU8WmQUE",
    "outputId": "2332d18c-9c22-4873-cd00-05b0ac375a10",
    "tags": []
   },
   "outputs": [],
   "source": [
    "# !curl --create-dirs -O --output-dir \"pynx\" http://ftp.esrf.fr/pub/scisoft/PyNX/pynx-latest.tar.bz2\n",
    "# download the PyNx (European Synchrotron Radiation Facility, Grenoble, France) installation files - https://pynx.esrf.fr/en/latest/"
   ]
  },
  {
   "cell_type": "code",
   "execution_count": null,
   "metadata": {
    "colab": {
     "base_uri": "https://localhost:8080/"
    },
    "executionInfo": {
     "elapsed": 16920,
     "status": "ok",
     "timestamp": 1737042275982,
     "user": {
      "displayName": "Peer",
      "userId": "13324457157936835427"
     },
     "user_tz": -60
    },
    "id": "7O713XJBmQUF",
    "outputId": "6b8d8609-15fe-466f-91ad-98b2ca1dd1ad",
    "tags": []
   },
   "outputs": [],
   "source": [
    "# !pip install \"pynx/pynx-latest.tar.bz2\"[cuda]\n",
    "# install the PyNx package"
   ]
  },
  {
   "cell_type": "markdown",
   "metadata": {
    "id": "gO5OJi_43Zl4",
    "jp-MarkdownHeadingCollapsed": true,
    "tags": []
   },
   "source": [
    "# **Import GPU tools**"
   ]
  },
  {
   "cell_type": "code",
   "execution_count": null,
   "metadata": {
    "colab": {
     "base_uri": "https://localhost:8080/",
     "height": 35
    },
    "executionInfo": {
     "elapsed": 1480,
     "status": "ok",
     "timestamp": 1737042280187,
     "user": {
      "displayName": "Peer",
      "userId": "13324457157936835427"
     },
     "user_tz": -60
    },
    "id": "M0t0StIouQaA",
    "outputId": "235c1060-a680-4cd5-fa3a-6d518bfa5f4a",
    "tags": []
   },
   "outputs": [],
   "source": [
    "import pycuda\n",
    "import pycuda.autoinit\n",
    "from pycuda.tools import make_default_context\n",
    "c = make_default_context()\n",
    "d = c.get_device()\n",
    "d.name()"
   ]
  },
  {
   "cell_type": "markdown",
   "metadata": {
    "id": "HtsyDw3MGsab",
    "jp-MarkdownHeadingCollapsed": true,
    "tags": []
   },
   "source": [
    "# **Read in image**"
   ]
  },
  {
   "cell_type": "code",
   "execution_count": null,
   "metadata": {
    "colab": {
     "base_uri": "https://localhost:8080/"
    },
    "executionInfo": {
     "elapsed": 243,
     "status": "ok",
     "timestamp": 1737042282500,
     "user": {
      "displayName": "Peer",
      "userId": "13324457157936835427"
     },
     "user_tz": -60
    },
    "id": "ub-5_yWjvDue",
    "outputId": "ad3c6219-9db0-48a9-87f4-420bee0caa6a",
    "tags": []
   },
   "outputs": [],
   "source": [
    "import os\n",
    "\n",
    "Basepath = os.path.normpath(r'/nfs/ruche/nanoscopium-users/20240588/2025/Shutdown6/2025-01-16')\n",
    "Outputpath = os.path.normpath(r'/nfs/ruche/nanoscopium-users/20240588/published-data/data')\n",
    "os.chdir(Basepath)\n",
    "print('data:    ', os.getcwd())\n",
    "\n",
    "print('files: ')\n",
    "for file in os.listdir():\n",
    "    print(file, end=', ')"
   ]
  },
  {
   "cell_type": "code",
   "execution_count": null,
   "metadata": {
    "tags": []
   },
   "outputs": [],
   "source": [
    "import h5py\n",
    "import numpy as np\n",
    "\n",
    "raw_file = \"flyscan_16401-0001.nxs\"\n",
    "scan = \"flyscan_16401\"\n",
    "\n",
    "# Open the NeXus file\n",
    "with h5py.File(raw_file, 'r') as f:\n",
    "    # List all groups\n",
    "    print(\"Keys: %s\" % f.keys())\n",
    "    # Get the data\n",
    "    data = np.array(f.get(scan+\"/scan_data/Image_merlin_image\"))\n",
    "    print(np.shape(data))  # Print the data\n"
   ]
  },
  {
   "cell_type": "code",
   "execution_count": null,
   "metadata": {
    "tags": []
   },
   "outputs": [],
   "source": [
    "import matplotlib.pyplot as plt\n",
    "\n",
    "image = np.sum(data, axis=(0,1))\n",
    "plt.imshow(image, vmin=0,vmax=1)\n",
    "plt.colorbar()"
   ]
  },
  {
   "cell_type": "code",
   "execution_count": null,
   "metadata": {
    "executionInfo": {
     "elapsed": 1714,
     "status": "ok",
     "timestamp": 1737042371511,
     "user": {
      "displayName": "Peer",
      "userId": "13324457157936835427"
     },
     "user_tz": -60
    },
    "id": "1iP1c9uKx1fr",
    "tags": []
   },
   "outputs": [],
   "source": [
    "from pynx.cdi import cdi\n",
    "from scipy.fft import fftshift\n",
    "\n",
    "# save the input in the needed format\n",
    "pixel_size_detector = 55e-6\n",
    "wavelength = 0.155e-9\n",
    "detector_distance = 5.1\n",
    "\n",
    "filename = os.path.join(Outputpath,'_'.join([raw_file.split('.')[0], 'input', 'CDI'])+'.hdf5')\n",
    "cdi.save_cdi_data_cxi(filename, iobs=image, pixel_size_detector=pixel_size_detector, wavelength=wavelength, detector_distance=detector_distance)"
   ]
  },
  {
   "cell_type": "markdown",
   "metadata": {
    "id": "KER9zP6G3IUT",
    "jp-MarkdownHeadingCollapsed": true,
    "tags": []
   },
   "source": [
    "# **Reconstruction**"
   ]
  },
  {
   "cell_type": "code",
   "execution_count": null,
   "metadata": {
    "executionInfo": {
     "elapsed": 311,
     "status": "ok",
     "timestamp": 1737042375080,
     "user": {
      "displayName": "Peer",
      "userId": "13324457157936835427"
     },
     "user_tz": -60
    },
    "id": "PEgvZ9Q_3HOQ",
    "tags": []
   },
   "outputs": [],
   "source": [
    "from pynx.cdi import    CDI, InitFreePixels, AutoCorrelationSupport, ShowCDI, ScaleObj, \\\n",
    "                        InitObjRandom, SupportUpdate, RAAR, ER, ML, HIO\n",
    "from scipy.fft import fftshift\n",
    "import h5py"
   ]
  },
  {
   "cell_type": "code",
   "execution_count": null,
   "metadata": {
    "colab": {
     "base_uri": "https://localhost:8080/"
    },
    "executionInfo": {
     "elapsed": 473,
     "status": "ok",
     "timestamp": 1737042382759,
     "user": {
      "displayName": "Peer",
      "userId": "13324457157936835427"
     },
     "user_tz": -60
    },
    "id": "BJIj2QFU2E1C",
    "outputId": "74837542-ce5d-4792-951d-e6efe2445d08",
    "tags": []
   },
   "outputs": [],
   "source": [
    "# open the prev. saved input file\n",
    "\n",
    "File_Preface = 'CDI_data'\n",
    "filename = os.path.join(Outputpath,'_'.join([raw_file.split('.')[0], 'input', 'CDI'])+'.hdf5')\n",
    "\n",
    "# Extract data\n",
    "cxi = h5py.File(filename, 'r')\n",
    "if '/entry_1/instrument_1/source_1/energy' in cxi:\n",
    "    nrj = cxi['/entry_1/instrument_1/source_1/energy'][()] / 1.60218e-16\n",
    "    wavelength = 12.384 / nrj * 1e-10\n",
    "    print(\"  CXI input: Energy = %8.2fkeV\" % nrj)\n",
    "else:\n",
    "    wavelength = None\n",
    "if '/entry_1/instrument_1/detector_1/distance' in cxi:\n",
    "    detector_distance = cxi['/entry_1/instrument_1/detector_1/distance'][()]\n",
    "    print(\"  CXI input: detector distance = %8.2fm\" % detector_distance)\n",
    "else:\n",
    "    detector_distance = None\n",
    "if '/entry_1/instrument_1/detector_1/x_pixel_size' in cxi:\n",
    "    pixel_size_detector = cxi['/entry_1/instrument_1/detector_1/x_pixel_size'][()]\n",
    "    print(\"  CXI input: detector pixel size = %8.2fum\" % (pixel_size_detector * 1e6))\n",
    "else:\n",
    "    pixel_size_detector = None\n",
    "print(\"  CXI input: loading iobs\")\n",
    "if 'entry_1/instrument_1/detector_1/data' in cxi:\n",
    "    iobs = cxi['entry_1/instrument_1/detector_1/data'][()].astype(np.float32)\n",
    "else:\n",
    "    iobs = cxi['entry_1/data_1/data'].value.astype(np.float32)\n",
    "# This is the detector mask\n",
    "if 'entry_1/instrument_1/detector_1/mask' in cxi:\n",
    "    mask = cxi['entry_1/instrument_1/detector_1/mask'][()].astype(np.int8)\n",
    "    mask = mask.reshape(np.shape(iobs))\n",
    "    nb = mask.sum()\n",
    "    print(\"  CXI input: loading mask, with %d pixels masked (%6.3f%%)\" % (nb, nb * 100 / mask.size))\n",
    "else:\n",
    "    mask = None"
   ]
  },
  {
   "cell_type": "code",
   "execution_count": null,
   "metadata": {
    "colab": {
     "base_uri": "https://localhost:8080/",
     "height": 478
    },
    "executionInfo": {
     "elapsed": 12872,
     "status": "ok",
     "timestamp": 1737042399663,
     "user": {
      "displayName": "Peer",
      "userId": "13324457157936835427"
     },
     "user_tz": -60
    },
    "id": "it_8eY7h4XD4",
    "outputId": "1f2b4cb0-a1c8-4968-83aa-74861b6e529e",
    "tags": []
   },
   "outputs": [],
   "source": [
    "# Create & initialise the CDI object\n",
    "cdi = CDI(fftshift(iobs), obj=None, mask=mask, wavelength=wavelength, pixel_size_detector=pixel_size_detector)\n",
    "\n",
    "cdi = InitFreePixels() * cdi\n",
    "\n",
    "# Init the object support & a random object\n",
    "cdi = AutoCorrelationSupport(threshold=0.03) * cdi\n",
    "cdi = ShowCDI(fig_num=1) * ScaleObj() * InitObjRandom(src=\"support\",amin=0.8,amax=1, phirange=0.0) * cdi\n",
    "\n",
    "# Initial scaling of the object [ only useful if there are masked pixels !]\n",
    "cdi = ScaleObj(method='F') * cdi"
   ]
  },
  {
   "cell_type": "code",
   "execution_count": null,
   "metadata": {
    "colab": {
     "base_uri": "https://localhost:8080/",
     "height": 1000,
     "output_embedded_package_id": "1N5rHStw136sxvyIwKc73phDN_svqXE1P"
    },
    "executionInfo": {
     "elapsed": 42732,
     "status": "ok",
     "timestamp": 1737042447946,
     "user": {
      "displayName": "Peer",
      "userId": "13324457157936835427"
     },
     "user_tz": -60
    },
    "id": "sowFOHxZ4byI",
    "outputId": "f3dd24ba-bb0a-40bd-8a99-c0414ccde24b"
   },
   "outputs": [],
   "source": [
    "# Define the support - which is crutial for the convergence\n",
    "# the \"threshold_relative\" should be changed:\n",
    "# 1. does converge to a single pixel\n",
    "# 2. does converge to noise on the whole image\n",
    "sup = SupportUpdate(threshold_relative=0.03, method='rms')#, smooth_width=(2,0.5,600))\n",
    "plt.figure()\n",
    "\n",
    "# Run the phase retrieval\n",
    "# runs different methods 'RAAR' and 'ER' - usualy shows a good convergence\n",
    "# quadration defines the number of iterations\n",
    "cdi = ( RAAR(beta=0.9, calc_llk=50, show_cdi=50)**10)**60 * cdi\n",
    "cdi = (sup * ER(calc_llk=50, show_cdi=50)**20)**10 * cdi"
   ]
  },
  {
   "cell_type": "code",
   "execution_count": null,
   "metadata": {
    "executionInfo": {
     "elapsed": 711,
     "status": "ok",
     "timestamp": 1737042458792,
     "user": {
      "displayName": "Peer",
      "userId": "13324457157936835427"
     },
     "user_tz": -60
    },
    "id": "gudDP44U4oYe",
    "tags": []
   },
   "outputs": [],
   "source": [
    " # save results to hdf files (all data + metadata)\n",
    "filename = os.path.join(Outputpath,'_'.join([raw_file.split('.')[0],'Output_obj', 'CDI'])+'.hdf5')\n",
    "cdi.save_obj_cxi(filename)\n",
    "filename = os.path.join(Outputpath,'_'.join([raw_file.split('.')[0],'Output_data', 'CDI'])+'.hdf5')\n",
    "cdi.save_data_cxi(filename)"
   ]
  },
  {
   "cell_type": "code",
   "execution_count": null,
   "metadata": {
    "executionInfo": {
     "elapsed": 291,
     "status": "ok",
     "timestamp": 1737042461179,
     "user": {
      "displayName": "Peer",
      "userId": "13324457157936835427"
     },
     "user_tz": -60
    },
    "id": "oKMO7HDaR4hK",
    "tags": []
   },
   "outputs": [],
   "source": [
    "# save results - just to images\n",
    "from PIL import Image\n",
    "\n",
    "# object domain\n",
    "filename = os.path.join(Outputpath,'_'.join([raw_file.split('.')[0],'Output_obj', 'CDI'])+'.tiff')\n",
    "\n",
    "im = Image.fromarray(np.abs(cdi.get_obj(shift=True)))\n",
    "im.save(filename)\n",
    "\n",
    "# fourier domain\n",
    "filename = os.path.join(Outputpath,'_'.join([raw_file.split('.')[0],'Output_data', 'CDI'])+'.tiff')\n",
    "\n",
    "im = Image.fromarray(cdi.get_iobs(shift=True))\n",
    "im.save(filename)"
   ]
  },
  {
   "cell_type": "code",
   "execution_count": null,
   "metadata": {},
   "outputs": [],
   "source": []
  }
 ],
 "metadata": {
  "accelerator": "GPU",
  "colab": {
   "authorship_tag": "ABX9TyNp603FiRZ3nRv0bil4tJN3",
   "gpuType": "T4",
   "mount_file_id": "13UYK141fBrbw8HX8MHZp7geCV2du0MW-",
   "provenance": []
  },
  "kernelspec": {
   "display_name": "Python 3 (ipykernel)",
   "language": "python",
   "name": "python3"
  },
  "language_info": {
   "codemirror_mode": {
    "name": "ipython",
    "version": 3
   },
   "file_extension": ".py",
   "mimetype": "text/x-python",
   "name": "python",
   "nbconvert_exporter": "python",
   "pygments_lexer": "ipython3",
   "version": "3.10.4"
  }
 },
 "nbformat": 4,
 "nbformat_minor": 4
}
